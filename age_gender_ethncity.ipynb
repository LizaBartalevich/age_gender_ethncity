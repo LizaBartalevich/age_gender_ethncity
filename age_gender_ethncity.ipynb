{
  "cells": [
    {
      "cell_type": "markdown",
      "metadata": {
        "id": "view-in-github",
        "colab_type": "text"
      },
      "source": [
        "<a href=\"https://colab.research.google.com/github/LizaBartalevich/age_gender_ethncity/blob/main/age_gender_ethncity.ipynb\" target=\"_parent\"><img src=\"https://colab.research.google.com/assets/colab-badge.svg\" alt=\"Open In Colab\"/></a>"
      ]
    },
    {
      "cell_type": "code",
      "source": [
        "\n",
        "!git clone https://github.com/LizaBartalevich/age_gender_ethncity\n"
      ],
      "metadata": {
        "colab": {
          "base_uri": "https://localhost:8080/"
        },
        "id": "WdOdm_MsL9wO",
        "outputId": "6ced0c4a-ecb1-4deb-ef77-503191dd3012"
      },
      "execution_count": 1,
      "outputs": [
        {
          "output_type": "stream",
          "name": "stdout",
          "text": [
            "Cloning into 'age_gender_ethncity'...\n",
            "remote: Enumerating objects: 3, done.\u001b[K\n",
            "remote: Counting objects: 100% (3/3), done.\u001b[K\n",
            "remote: Compressing objects: 100% (3/3), done.\u001b[K\n",
            "remote: Total 3 (delta 0), reused 0 (delta 0), pack-reused 0\u001b[K\n",
            "Unpacking objects: 100% (3/3), 72.09 KiB | 1.13 MiB/s, done.\n"
          ]
        }
      ]
    },
    {
      "cell_type": "markdown",
      "metadata": {
        "id": "341t1O-KGDw8"
      },
      "source": [
        "1. Сбор и подготовка данных: Необходимо собрать большой набор фотографий людей разного пола, возраста и этнической принадлежности. Каждая фотография должна быть помечена соответствующими метками, указывающими пол, возраст и этническую принадлежность человека на фотографии. ✅\n",
        "\n",
        "2. Выбор архитектуры нейронной сети - сверточная нейронная сеть (**CNN**) ✅\n",
        "\n",
        "3. Предварительная обработка данных: Фотографии требуют предварительной обработки, включающей изменение размера, нормализацию, обрезку и устранение шума, чтобы гарантировать однородность и качество данных. ✅\n",
        "\n",
        "4. Данные должны быть разделены на обучающий набор и тестовый набор.✅\n",
        "\n",
        "5. Обучение нейросети: Используя обучающий набор данных, нейросеть должна быть обучена находить связи между входными изображениями и соответствующими метками пола, возраста и этнической принадлежности. Обучение может проводиться путем минимизации функции потерь с помощью методов оптимизации, таких как **стохастический градиентный спуск** или его вариации.\n",
        "\n",
        "6. Оценка и тестирование нейросети: После завершения обучения нейросети необходимо оценить ее производительность на тестовом наборе данных. Метрики, такие как точность (accuracy), полнота (recall) и точность (precision), могут быть использованы для измерения эффективности классификации пола, возраста и этнической принадлежности.\n",
        "\n",
        "7. Тонкая настройка и улучшение производительности: Если производительность нейросети не удовлетворяет требованиям, можно провести тонкую настройку гиперпараметров модели, изменить архитектуру или внести изменения в процесс обработки данных, чтобы улучшить результаты.\n",
        "\n",
        "8. Развертывание и использование: После достижения удовлетворительной производительности нейросети можно развернуть ее в продукционную среду. Это может включать интеграцию с другими системами или создание веб-приложения, которое позволяет пользователям загружать фотографии и получать предсказания о поле, возрасте и этнической принадлежности.\n",
        "\n",
        "9. Непрерывное обучение и совершенствование: Чтобы сохранить производительность нейросети на актуальном уровне, можно регулярно обновлять ее с использованием новых данных и методов обучения. Это поможет улучшить точность и расширить спектр определяемых признаков.\n"
      ]
    },
    {
      "cell_type": "code",
      "execution_count": null,
      "metadata": {
        "id": "XdVBxWYPsIAL"
      },
      "outputs": [],
      "source": [
        "import numpy as np \n",
        "import seaborn as sns\n",
        "import pandas as pd\n",
        "import os\n",
        "from matplotlib import pyplot as plt\n",
        "import tensorflow as tf\n",
        "import cv2\n",
        "from tqdm import tqdm\n",
        "import random\n",
        "import math \n",
        "import scipy.special\n",
        "from sklearn.model_selection import train_test_split\n",
        "from tensorflow.keras.optimizers import Adam\n",
        "import keras\n",
        "from tensorflow.keras.layers import Dense, Flatten, Conv2D, MaxPool2D, Dropout, BatchNormalization, LeakyReLU\n"
      ]
    },
    {
      "cell_type": "code",
      "execution_count": null,
      "metadata": {
        "colab": {
          "base_uri": "https://localhost:8080/",
          "height": 224
        },
        "id": "t1ZVJUm2sacI",
        "outputId": "5d84aa5e-8302-4e55-ad55-e01119ec092a"
      },
      "outputs": [
        {
          "output_type": "stream",
          "name": "stdout",
          "text": [
            "Drive already mounted at /content/drive; to attempt to forcibly remount, call drive.mount(\"/content/drive\", force_remount=True).\n"
          ]
        },
        {
          "output_type": "execute_result",
          "data": {
            "text/plain": [
              "   age  ethnicity  gender                        img_name  \\\n",
              "0    1          2       0  20161219203650636.jpg.chip.jpg   \n",
              "1    1          2       0  20161219222752047.jpg.chip.jpg   \n",
              "2    1          2       0  20161219222832191.jpg.chip.jpg   \n",
              "3    1          2       0  20161220144911423.jpg.chip.jpg   \n",
              "4    1          2       0  20161220144914327.jpg.chip.jpg   \n",
              "\n",
              "                                              pixels  \n",
              "0  129 128 128 126 127 130 133 135 139 142 145 14...  \n",
              "1  164 74 111 168 169 171 175 182 184 188 193 199...  \n",
              "2  67 70 71 70 69 67 70 79 90 103 116 132 145 155...  \n",
              "3  193 197 198 200 199 200 202 203 204 205 208 21...  \n",
              "4  202 205 209 210 209 209 210 211 212 214 218 21...  "
            ],
            "text/html": [
              "\n",
              "  <div id=\"df-30198980-5a2e-48b0-a4b7-c266fc56943b\">\n",
              "    <div class=\"colab-df-container\">\n",
              "      <div>\n",
              "<style scoped>\n",
              "    .dataframe tbody tr th:only-of-type {\n",
              "        vertical-align: middle;\n",
              "    }\n",
              "\n",
              "    .dataframe tbody tr th {\n",
              "        vertical-align: top;\n",
              "    }\n",
              "\n",
              "    .dataframe thead th {\n",
              "        text-align: right;\n",
              "    }\n",
              "</style>\n",
              "<table border=\"1\" class=\"dataframe\">\n",
              "  <thead>\n",
              "    <tr style=\"text-align: right;\">\n",
              "      <th></th>\n",
              "      <th>age</th>\n",
              "      <th>ethnicity</th>\n",
              "      <th>gender</th>\n",
              "      <th>img_name</th>\n",
              "      <th>pixels</th>\n",
              "    </tr>\n",
              "  </thead>\n",
              "  <tbody>\n",
              "    <tr>\n",
              "      <th>0</th>\n",
              "      <td>1</td>\n",
              "      <td>2</td>\n",
              "      <td>0</td>\n",
              "      <td>20161219203650636.jpg.chip.jpg</td>\n",
              "      <td>129 128 128 126 127 130 133 135 139 142 145 14...</td>\n",
              "    </tr>\n",
              "    <tr>\n",
              "      <th>1</th>\n",
              "      <td>1</td>\n",
              "      <td>2</td>\n",
              "      <td>0</td>\n",
              "      <td>20161219222752047.jpg.chip.jpg</td>\n",
              "      <td>164 74 111 168 169 171 175 182 184 188 193 199...</td>\n",
              "    </tr>\n",
              "    <tr>\n",
              "      <th>2</th>\n",
              "      <td>1</td>\n",
              "      <td>2</td>\n",
              "      <td>0</td>\n",
              "      <td>20161219222832191.jpg.chip.jpg</td>\n",
              "      <td>67 70 71 70 69 67 70 79 90 103 116 132 145 155...</td>\n",
              "    </tr>\n",
              "    <tr>\n",
              "      <th>3</th>\n",
              "      <td>1</td>\n",
              "      <td>2</td>\n",
              "      <td>0</td>\n",
              "      <td>20161220144911423.jpg.chip.jpg</td>\n",
              "      <td>193 197 198 200 199 200 202 203 204 205 208 21...</td>\n",
              "    </tr>\n",
              "    <tr>\n",
              "      <th>4</th>\n",
              "      <td>1</td>\n",
              "      <td>2</td>\n",
              "      <td>0</td>\n",
              "      <td>20161220144914327.jpg.chip.jpg</td>\n",
              "      <td>202 205 209 210 209 209 210 211 212 214 218 21...</td>\n",
              "    </tr>\n",
              "  </tbody>\n",
              "</table>\n",
              "</div>\n",
              "      <button class=\"colab-df-convert\" onclick=\"convertToInteractive('df-30198980-5a2e-48b0-a4b7-c266fc56943b')\"\n",
              "              title=\"Convert this dataframe to an interactive table.\"\n",
              "              style=\"display:none;\">\n",
              "        \n",
              "  <svg xmlns=\"http://www.w3.org/2000/svg\" height=\"24px\"viewBox=\"0 0 24 24\"\n",
              "       width=\"24px\">\n",
              "    <path d=\"M0 0h24v24H0V0z\" fill=\"none\"/>\n",
              "    <path d=\"M18.56 5.44l.94 2.06.94-2.06 2.06-.94-2.06-.94-.94-2.06-.94 2.06-2.06.94zm-11 1L8.5 8.5l.94-2.06 2.06-.94-2.06-.94L8.5 2.5l-.94 2.06-2.06.94zm10 10l.94 2.06.94-2.06 2.06-.94-2.06-.94-.94-2.06-.94 2.06-2.06.94z\"/><path d=\"M17.41 7.96l-1.37-1.37c-.4-.4-.92-.59-1.43-.59-.52 0-1.04.2-1.43.59L10.3 9.45l-7.72 7.72c-.78.78-.78 2.05 0 2.83L4 21.41c.39.39.9.59 1.41.59.51 0 1.02-.2 1.41-.59l7.78-7.78 2.81-2.81c.8-.78.8-2.07 0-2.86zM5.41 20L4 18.59l7.72-7.72 1.47 1.35L5.41 20z\"/>\n",
              "  </svg>\n",
              "      </button>\n",
              "      \n",
              "  <style>\n",
              "    .colab-df-container {\n",
              "      display:flex;\n",
              "      flex-wrap:wrap;\n",
              "      gap: 12px;\n",
              "    }\n",
              "\n",
              "    .colab-df-convert {\n",
              "      background-color: #E8F0FE;\n",
              "      border: none;\n",
              "      border-radius: 50%;\n",
              "      cursor: pointer;\n",
              "      display: none;\n",
              "      fill: #1967D2;\n",
              "      height: 32px;\n",
              "      padding: 0 0 0 0;\n",
              "      width: 32px;\n",
              "    }\n",
              "\n",
              "    .colab-df-convert:hover {\n",
              "      background-color: #E2EBFA;\n",
              "      box-shadow: 0px 1px 2px rgba(60, 64, 67, 0.3), 0px 1px 3px 1px rgba(60, 64, 67, 0.15);\n",
              "      fill: #174EA6;\n",
              "    }\n",
              "\n",
              "    [theme=dark] .colab-df-convert {\n",
              "      background-color: #3B4455;\n",
              "      fill: #D2E3FC;\n",
              "    }\n",
              "\n",
              "    [theme=dark] .colab-df-convert:hover {\n",
              "      background-color: #434B5C;\n",
              "      box-shadow: 0px 1px 3px 1px rgba(0, 0, 0, 0.15);\n",
              "      filter: drop-shadow(0px 1px 2px rgba(0, 0, 0, 0.3));\n",
              "      fill: #FFFFFF;\n",
              "    }\n",
              "  </style>\n",
              "\n",
              "      <script>\n",
              "        const buttonEl =\n",
              "          document.querySelector('#df-30198980-5a2e-48b0-a4b7-c266fc56943b button.colab-df-convert');\n",
              "        buttonEl.style.display =\n",
              "          google.colab.kernel.accessAllowed ? 'block' : 'none';\n",
              "\n",
              "        async function convertToInteractive(key) {\n",
              "          const element = document.querySelector('#df-30198980-5a2e-48b0-a4b7-c266fc56943b');\n",
              "          const dataTable =\n",
              "            await google.colab.kernel.invokeFunction('convertToInteractive',\n",
              "                                                     [key], {});\n",
              "          if (!dataTable) return;\n",
              "\n",
              "          const docLinkHtml = 'Like what you see? Visit the ' +\n",
              "            '<a target=\"_blank\" href=https://colab.research.google.com/notebooks/data_table.ipynb>data table notebook</a>'\n",
              "            + ' to learn more about interactive tables.';\n",
              "          element.innerHTML = '';\n",
              "          dataTable['output_type'] = 'display_data';\n",
              "          await google.colab.output.renderOutput(dataTable, element);\n",
              "          const docLink = document.createElement('div');\n",
              "          docLink.innerHTML = docLinkHtml;\n",
              "          element.appendChild(docLink);\n",
              "        }\n",
              "      </script>\n",
              "    </div>\n",
              "  </div>\n",
              "  "
            ]
          },
          "metadata": {},
          "execution_count": 34
        }
      ],
      "source": [
        "#хз как тут нормально файл держать\n",
        "from google.colab import drive\n",
        "drive.mount('/content/drive')\n",
        "dataframe = pd.read_csv('/content/drive/MyDrive/Colab Notebooks/age_gender/age_gender.csv')\n",
        "dataframe.head()"
      ]
    },
    {
      "cell_type": "code",
      "execution_count": null,
      "metadata": {
        "colab": {
          "base_uri": "https://localhost:8080/",
          "height": 793
        },
        "id": "Smg7jiuFiNBH",
        "outputId": "d0bf3bd3-5ccd-49e4-d637-0ee5caacc67f"
      },
      "outputs": [
        {
          "output_type": "execute_result",
          "data": {
            "text/plain": [
              "Text(0.5, 1.0, 'Gender')"
            ]
          },
          "metadata": {},
          "execution_count": 35
        },
        {
          "output_type": "display_data",
          "data": {
            "text/plain": [
              "<Figure size 1800x800 with 2 Axes>"
            ],
            "image/png": "[encoded data removed]"
          },
          "metadata": {}
        }
      ],
      "source": [
        "fig, axes = plt.subplots(1, 2, figsize = (18, 8))\n",
        "fig.suptitle(\"Count for each label\")\n",
        "\n",
        "sns.countplot(ax = axes[0], x = dataframe.ethnicity)\n",
        "axes[0].set_title(\"Ethnicity\")\n",
        "\n",
        "sns.countplot(ax = axes[1], x = dataframe.gender)\n",
        "axes[1].set_title(\"Gender\")"
      ]
    },
    {
      "cell_type": "code",
      "execution_count": null,
      "metadata": {
        "colab": {
          "base_uri": "https://localhost:8080/",
          "height": 713
        },
        "id": "xJZG_0jBiy06",
        "outputId": "c3852f99-89e7-4135-adfd-9c65dce68b0d"
      },
      "outputs": [
        {
          "output_type": "execute_result",
          "data": {
            "text/plain": [
              "<Axes: xlabel='age', ylabel='Count'>"
            ]
          },
          "metadata": {},
          "execution_count": 36
        },
        {
          "output_type": "display_data",
          "data": {
            "text/plain": [
              "<Figure size 1800x800 with 1 Axes>"
            ],
            "image/png": "[encoded data removed]"
          },
          "metadata": {}
        }
      ],
      "source": [
        "plt.figure(figsize=(18,8))\n",
        "sns.histplot(dataframe.age)"
      ]
    },
    {
      "cell_type": "code",
      "execution_count": null,
      "metadata": {
        "colab": {
          "base_uri": "https://localhost:8080/",
          "height": 469
        },
        "id": "V4JLdXu8uOZB",
        "outputId": "9fc2b059-4346-43bb-8c26-08e411e7a72d"
      },
      "outputs": [
        {
          "output_type": "execute_result",
          "data": {
            "text/plain": [
              "<matplotlib.image.AxesImage at 0x7efa756b4dc0>"
            ]
          },
          "metadata": {},
          "execution_count": 37
        },
        {
          "output_type": "display_data",
          "data": {
            "text/plain": [
              "<Figure size 640x480 with 1 Axes>"
            ],
            "image/png": "[encoded data removed]"
          },
          "metadata": {}
        }
      ],
      "source": [
        "#пример фотки\n",
        "index = 14\n",
        "image = np.fromstring(dataframe['pixels'][index], sep = ' ', dtype = np.uint8).reshape((48,48))\n",
        "plt.title(dataframe['ethnicity'][index])\n",
        "plt.imshow(image, cmap =\"gray\")"
      ]
    },
    {
      "cell_type": "code",
      "execution_count": null,
      "metadata": {
        "id": "nL6dfFbQOJrM"
      },
      "outputs": [],
      "source": [
        "def pixel_reshape(column):\n",
        "    column = np.array([x for x in column.str.split()], dtype =\"float32\")\n",
        "    column = np.reshape(column, (-1,48,48,1))\n",
        "    return np.array(column)"
      ]
    },
    {
      "cell_type": "code",
      "execution_count": null,
      "metadata": {
        "id": "cmKXGtG-ewPm"
      },
      "outputs": [],
      "source": [
        "# нормализация и изменение размера(пункт 3)\n",
        "X = (pixel_reshape(dataframe['pixels']))/255\n",
        "y = dataframe[['age', 'ethnicity', 'gender']]"
      ]
    },
    {
      "cell_type": "code",
      "execution_count": null,
      "metadata": {
        "colab": {
          "base_uri": "https://localhost:8080/",
          "height": 435
        },
        "id": "y7INgyxZupMp",
        "outputId": "64d3e7ca-313f-4d97-b04f-1e07b597a097"
      },
      "outputs": [
        {
          "output_type": "display_data",
          "data": {
            "text/plain": [
              "<Figure size 640x480 with 2 Axes>"
            ],
            "image/png": "[encoded data removed]"
          },
          "metadata": {}
        }
      ],
      "source": [
        "plt.figure()\n",
        "plt.imshow(X[11])\n",
        "plt.colorbar()\n",
        "plt.grid(False)"
      ]
    },
    {
      "cell_type": "code",
      "execution_count": null,
      "metadata": {
        "id": "h9m23kI3vKsR"
      },
      "outputs": [],
      "source": [
        "# делим на тренировочную и тестовую выборки\n",
        "X_train, X_test, y_train, y_test = train_test_split(X, y, test_size = 0.2, random_state = 42)\n",
        "y_train_age, y_test_age = y_train['age'], y_test['age']\n",
        "y_train_ethnicity, y_test_ethnicity = y_train['ethnicity'], y_test['ethnicity']\n",
        "y_train_gender, y_test_gender = y_train['gender'], y_test['gender']\n"
      ]
    },
    {
      "cell_type": "code",
      "execution_count": null,
      "metadata": {
        "colab": {
          "base_uri": "https://localhost:8080/"
        },
        "id": "AGAL2Sxr56jV",
        "outputId": "b6425a71-2a0a-4feb-c660-5618f57942c3"
      },
      "outputs": [
        {
          "output_type": "execute_result",
          "data": {
            "text/plain": [
              "((18964, 48, 48, 1), (18964,))"
            ]
          },
          "metadata": {},
          "execution_count": 42
        }
      ],
      "source": [
        "X_train.shape, y_train_age.shape"
      ]
    },
    {
      "cell_type": "code",
      "execution_count": null,
      "metadata": {
        "id": "ZvVPhgpGkKMa"
      },
      "outputs": [],
      "source": [
        "# создание модели для определения пола\n",
        "model_gender = tf.keras.Sequential([\n",
        "    Conv2D(16, padding=\"same\", kernel_size=(2, 2), input_shape=((48,48,1))),\n",
        "    MaxPool2D((2, 2)),\n",
        "    Conv2D(32, kernel_size=(3, 3), padding=\"same\"),\n",
        "    Flatten(),\n",
        "    Dense(64, activation=LeakyReLU(alpha=0.3)),\n",
        "    BatchNormalization(),\n",
        "    Dropout(0.2),\n",
        "    Dense(1, activation='sigmoid')\n",
        "])"
      ]
    },
    {
      "cell_type": "code",
      "execution_count": null,
      "metadata": {
        "id": "4O6qj50cwyJY"
      },
      "outputs": [],
      "source": [
        "#компиляция модели\n",
        "model_gender.compile(optimizer=Adam(learning_rate=0.001), loss=\"binary_crossentropy\", loss_weights = 0.5, metrics=[\"accuracy\"])"
      ]
    },
    {
      "cell_type": "code",
      "execution_count": null,
      "metadata": {
        "colab": {
          "base_uri": "https://localhost:8080/"
        },
        "id": "JCG_Wgt9yUBo",
        "outputId": "2e1a9aee-5c5d-4751-e4cb-ac7d9aaa7ca0"
      },
      "outputs": [
        {
          "output_type": "stream",
          "name": "stdout",
          "text": [
            "Model: \"sequential_2\"\n",
            "_________________________________________________________________\n",
            " Layer (type)                Output Shape              Param #   \n",
            "=================================================================\n",
            " conv2d_4 (Conv2D)           (None, 48, 48, 16)        80        \n",
            "                                                                 \n",
            " max_pooling2d_2 (MaxPooling  (None, 24, 24, 16)       0         \n",
            " 2D)                                                             \n",
            "                                                                 \n",
            " conv2d_5 (Conv2D)           (None, 24, 24, 32)        4640      \n",
            "                                                                 \n",
            " flatten_2 (Flatten)         (None, 18432)             0         \n",
            "                                                                 \n",
            " dense_4 (Dense)             (None, 64)                1179712   \n",
            "                                                                 \n",
            " batch_normalization_2 (Batc  (None, 64)               256       \n",
            " hNormalization)                                                 \n",
            "                                                                 \n",
            " dropout_2 (Dropout)         (None, 64)                0         \n",
            "                                                                 \n",
            " dense_5 (Dense)             (None, 1)                 65        \n",
            "                                                                 \n",
            "=================================================================\n",
            "Total params: 1,184,753\n",
            "Trainable params: 1,184,625\n",
            "Non-trainable params: 128\n",
            "_________________________________________________________________\n"
          ]
        }
      ],
      "source": [
        "model_gender.summary()"
      ]
    },
    {
      "cell_type": "code",
      "execution_count": null,
      "metadata": {
        "id": "qn4I8LPvGh1Z",
        "colab": {
          "base_uri": "https://localhost:8080/"
        },
        "outputId": "7caf1c10-9a8d-41c1-81e3-27411dd321ac"
      },
      "outputs": [
        {
          "output_type": "stream",
          "name": "stdout",
          "text": [
            "Epoch 1/13\n",
            "593/593 [==============================] - 53s 87ms/step - loss: 0.2155 - accuracy: 0.8083\n",
            "Epoch 2/13\n",
            "593/593 [==============================] - 44s 74ms/step - loss: 0.1798 - accuracy: 0.8436\n",
            "Epoch 3/13\n",
            "593/593 [==============================] - 46s 78ms/step - loss: 0.1693 - accuracy: 0.8559\n",
            "Epoch 4/13\n",
            "593/593 [==============================] - 46s 77ms/step - loss: 0.1637 - accuracy: 0.8611\n",
            "Epoch 5/13\n",
            "593/593 [==============================] - 45s 75ms/step - loss: 0.1583 - accuracy: 0.8654\n",
            "Epoch 6/13\n",
            "593/593 [==============================] - 45s 76ms/step - loss: 0.1550 - accuracy: 0.8685\n",
            "Epoch 7/13\n",
            "593/593 [==============================] - 44s 75ms/step - loss: 0.1533 - accuracy: 0.8712\n",
            "Epoch 8/13\n",
            "593/593 [==============================] - 44s 74ms/step - loss: 0.1485 - accuracy: 0.8749\n",
            "Epoch 9/13\n",
            "593/593 [==============================] - 45s 76ms/step - loss: 0.1466 - accuracy: 0.8765\n",
            "Epoch 10/13\n",
            "593/593 [==============================] - 45s 77ms/step - loss: 0.1413 - accuracy: 0.8808\n",
            "Epoch 11/13\n",
            "593/593 [==============================] - 45s 76ms/step - loss: 0.1397 - accuracy: 0.8840\n",
            "Epoch 12/13\n",
            "593/593 [==============================] - 45s 76ms/step - loss: 0.1373 - accuracy: 0.8867\n",
            "Epoch 13/13\n",
            "593/593 [==============================] - 45s 76ms/step - loss: 0.1334 - accuracy: 0.8887\n"
          ]
        },
        {
          "output_type": "execute_result",
          "data": {
            "text/plain": [
              "<keras.callbacks.History at 0x7efa9ed6fee0>"
            ]
          },
          "metadata": {},
          "execution_count": 46
        }
      ],
      "source": [
        "model_gender.fit(X_train, y_train_gender, epochs=13)"
      ]
    },
    {
      "cell_type": "code",
      "execution_count": null,
      "metadata": {
        "colab": {
          "base_uri": "https://localhost:8080/"
        },
        "id": "s2tF0VSo8tq7",
        "outputId": "f32bdff2-f23c-4283-8b01-df04238980ca"
      },
      "outputs": [
        {
          "output_type": "stream",
          "name": "stdout",
          "text": [
            "149/149 [==============================] - 4s 24ms/step - loss: 1.6480 - accuracy: 0.5254\n"
          ]
        },
        {
          "output_type": "execute_result",
          "data": {
            "text/plain": [
              "[1.6479588747024536, 0.5254165530204773]"
            ]
          },
          "metadata": {},
          "execution_count": 47
        }
      ],
      "source": [
        "model_gender.evaluate(X_test, y_test_gender)"
      ]
    },
    {
      "cell_type": "code",
      "execution_count": null,
      "metadata": {
        "colab": {
          "base_uri": "https://localhost:8080/"
        },
        "id": "oJ2n3c00_HTx",
        "outputId": "d4f3356a-a749-4ef5-a24b-fc2ee4eb68ad"
      },
      "outputs": [
        {
          "output_type": "stream",
          "name": "stdout",
          "text": [
            "149/149 [==============================] - 3s 19ms/step\n",
            "True gender: 1 vs Predicted gender: 0\n",
            "True gender: 0 vs Predicted gender: 0\n",
            "True gender: 0 vs Predicted gender: 0\n",
            "True gender: 0 vs Predicted gender: 0\n",
            "True gender: 0 vs Predicted gender: 0\n",
            "True gender: 0 vs Predicted gender: 0\n",
            "True gender: 1 vs Predicted gender: 0\n",
            "True gender: 0 vs Predicted gender: 0\n",
            "True gender: 1 vs Predicted gender: 0\n",
            "True gender: 0 vs Predicted gender: 0\n",
            "True gender: 1 vs Predicted gender: 0\n",
            "True gender: 1 vs Predicted gender: 0\n",
            "True gender: 0 vs Predicted gender: 0\n",
            "True gender: 0 vs Predicted gender: 0\n",
            "True gender: 0 vs Predicted gender: 0\n",
            "True gender: 0 vs Predicted gender: 0\n",
            "True gender: 1 vs Predicted gender: 0\n",
            "True gender: 1 vs Predicted gender: 0\n",
            "True gender: 1 vs Predicted gender: 0\n",
            "True gender: 0 vs Predicted gender: 0\n"
          ]
        }
      ],
      "source": [
        "preds = model_gender.predict(X_test)\n",
        "\n",
        "for i in range(20):\n",
        "    print(f\"True gender: {y_test_gender.iloc[i]} vs Predicted gender: {int(np.rint(preds[i]))}\")"
      ]
    },
    {
      "cell_type": "code",
      "execution_count": null,
      "metadata": {
        "id": "9xIhUx_SFNtL"
      },
      "outputs": [],
      "source": []
    }
  ],
  "metadata": {
    "colab": {
      "provenance": [],
      "mount_file_id": "1GeQHWVvq7zSL3HMRXgR40IYbRzyhq4J8",
      "authorship_tag": "ABX9TyPuaTJlJ203Xb1ITldnbQ1d",
      "include_colab_link": true
    },
    "kernelspec": {
      "display_name": "Python 3",
      "name": "python3"
    },
    "language_info": {
      "name": "python"
    }
  },
  "nbformat": 4,
  "nbformat_minor": 0
}